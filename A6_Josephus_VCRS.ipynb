{
 "cells": [
  {
   "cell_type": "code",
   "execution_count": 6,
   "id": "7518cf88",
   "metadata": {},
   "outputs": [
    {
     "name": "stdout",
     "output_type": "stream",
     "text": [
      "Ingrese el número total de personas: 3\n",
      "Ingrese el paso de eliminación: 2\n",
      "Eliminado: 2\n",
      "Personas restantes: [1, 3]\n",
      "Eliminado: 1\n",
      "Personas restantes: [3]\n",
      "\n",
      "El superviviente es la persona en la posición: 3.\n"
     ]
    }
   ],
   "source": [
    "# CÓDIGO PARA LA RESOLUCIÓN DEL PROBLEMA DE FLAVIUS JOSEPHUS CON PERSONAS E INDICE DE ELIMINACIÓN ALEATORIOS.\n",
    "\n",
    "# OBTENCIÓN DE LOS DATOS BRINDADOS POR USUARIO\n",
    "n = int(input(\"Ingrese el número total de personas: \"))\n",
    "k = int(input(\"Ingrese el paso de eliminación: \"))\n",
    "\n",
    "def Josephus(n, k):\n",
    "    # SE CREA UNA LISTA NÚMERADA PARA LAS PERSONAS PARTICIPANTES\n",
    "    personas = list(range(1, n + 1))\n",
    "\n",
    "    # SE UTILIZA ESTA VARIABLE COMO INDEX DE ELIMINACIÓN INICIALIZADO EN 0\n",
    "    idx = 0\n",
    "\n",
    "    # ESTE CICLO ELIMINARA A LAS PERSONAS DE LA LISTA SEGÚN LA FORMULA\n",
    "    while len(personas) > 1:\n",
    "        # ESTA ES LA FORMULA QUE CALCULA LA POSICIÓN\n",
    "        idx = (idx + k - 1) % len(personas)\n",
    "\n",
    "        # SE ELIMINA DE LA LISTA CON EL INDEX\n",
    "        eliminado = personas.pop(idx)\n",
    "\n",
    "        print(f\"Eliminado: {eliminado}\")\n",
    "        print(\"Personas restantes:\", personas)\n",
    "\n",
    "    # LA ÚLTIMA PERSONA QUE SOBRE EN LA LISTA ES EL SUPERVIVIENTE\n",
    "    return personas[0]\n",
    "\n",
    "# CALCULAR Y MOSTRAR EL SUPERVIVIENTE\n",
    "superviviente = Josephus(n, k)\n",
    "print(f\"\\nEl superviviente es la persona en la posición: {superviviente}.\")\n"
   ]
  },
  {
   "cell_type": "code",
   "execution_count": null,
   "id": "b3db11b9",
   "metadata": {},
   "outputs": [],
   "source": []
  },
  {
   "cell_type": "code",
   "execution_count": null,
   "id": "522699c6",
   "metadata": {},
   "outputs": [],
   "source": []
  }
 ],
 "metadata": {
  "kernelspec": {
   "display_name": "Python 3 (ipykernel)",
   "language": "python",
   "name": "python3"
  },
  "language_info": {
   "codemirror_mode": {
    "name": "ipython",
    "version": 3
   },
   "file_extension": ".py",
   "mimetype": "text/x-python",
   "name": "python",
   "nbconvert_exporter": "python",
   "pygments_lexer": "ipython3",
   "version": "3.11.4"
  }
 },
 "nbformat": 4,
 "nbformat_minor": 5
}
