{
 "cells": [
  {
   "cell_type": "code",
   "execution_count": null,
   "id": "48ce9f5c-e04d-4949-8e93-fdf0f127bd97",
   "metadata": {},
   "outputs": [
    {
     "name": "stdout",
     "output_type": "stream",
     "text": [
      "Número de islas con color rojo: 254\n"
     ]
    }
   ],
   "source": [
    "# MASCARAS DE DETECCIÓN DE UN COLOR ESPECIFICO SOBRE UNA IMAGEN DADA\n",
    "\n",
    "# IMPORTS PARA EL CÓDIGO\n",
    "import cv2 as cv\n",
    "\n",
    "# OBTENCIÓN DE LA IMAGEN Y SU FILTRO RESPECTIVO\n",
    "img1 = cv.imread('image.jpg', 1)\n",
    "img2 = cv.imread('image.jpg', 1)\n",
    "w = img1.shape[0]\n",
    "h = img1.shape[1]\n",
    "\n",
    "# VARIABLES DE RANGOS DE COLOR RGB\n",
    "BaseRedMin = 100\n",
    "DarkRedMin = 0\n",
    "LightRedMin = 0\n",
    "BaseRedMax = 255\n",
    "DarkRedMax = 100\n",
    "LightRedMax = 100\n",
    "\n",
    "# VARIABLE DE CONTEO\n",
    "islands = 0\n",
    "\n",
    "# MÉTODO QUE DEFINE SI UN PIXEL EN LA IMAGEN ES DE COLOR ROJO\n",
    "def RedPixel(i, j):\n",
    "    if(img2[i, j][2] >= BaseRedMin and img2[i, j][2] <= BaseRedMax):\n",
    "        if(img2[i, j][1] >= DarkRedMin and img2[i, j][1] <= DarkRedMax):\n",
    "            if(img2[i, j][0] >= LightRedMin and img2[i, j][0] <= LightRedMax):\n",
    "                return True;\n",
    "    return False;\n",
    "\n",
    "# MÉTODO RECURSIVO QUE HACE EL CONTEO DEL COLOR ROJO EN LA IMAGEN\n",
    "def MetRecursivo(i, j):\n",
    "    if not(i < 0 or i >= w or j < 0 or j >= h):\n",
    "        if(RedPixel(i,j)):\n",
    "            img2[i,j][2] = 0\n",
    "            img2[i,j][1] = 0\n",
    "            img2[i,j][0] = 0\n",
    "            MetRecursivo(i - 1, j)\n",
    "            MetRecursivo(i + 1, j)\n",
    "            MetRecursivo(i, j - 1)\n",
    "            MetRecursivo(i, j + 1)\n",
    "    return\n",
    "\n",
    "for i in range(w):\n",
    "    for j in range(h):\n",
    "        if(RedPixel(i, j)):\n",
    "            islands += 1\n",
    "            MetRecursivo(i, j);\n",
    "            \n",
    "# CREACIÓN DE VENTANAS PARA IMAGENES            \n",
    "cv.imshow('Img Original', img1)\n",
    "cv.imshow('Img Filtrada', img2)\n",
    "print('Número de islas con color rojo:', islands)\n",
    "\n",
    "# CIERRE DE VENTANAS\n",
    "cv.waitKey(0)\n",
    "cv.destroyAllWindows()"
   ]
  },
  {
   "cell_type": "code",
   "execution_count": null,
   "id": "66e7a673-bbcf-4316-845f-ca963aded691",
   "metadata": {},
   "outputs": [],
   "source": []
  }
 ],
 "metadata": {
  "kernelspec": {
   "display_name": "Python 3 (ipykernel)",
   "language": "python",
   "name": "python3"
  },
  "language_info": {
   "codemirror_mode": {
    "name": "ipython",
    "version": 3
   },
   "file_extension": ".py",
   "mimetype": "text/x-python",
   "name": "python",
   "nbconvert_exporter": "python",
   "pygments_lexer": "ipython3",
   "version": "3.11.4"
  }
 },
 "nbformat": 4,
 "nbformat_minor": 5
}
