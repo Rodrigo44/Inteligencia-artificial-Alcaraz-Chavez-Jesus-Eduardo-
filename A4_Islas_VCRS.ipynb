{
 "cells": [
  {
   "cell_type": "code",
   "execution_count": 12,
   "id": "4192cafc",
   "metadata": {},
   "outputs": [
    {
     "name": "stdout",
     "output_type": "stream",
     "text": [
      "Ingrese la altura del mapa: 7\n",
      "Ingrese la anchura del mapa: 7\n",
      "Este es el mapa:\n",
      "·  ·  ·  ·  ·  ·  ·  \n",
      "■  ■  ·  ■  ·  ■  ■  \n",
      "·  ■  ■  ·  ·  ·  ·  \n",
      "·  ·  ·  ·  ·  ·  ·  \n",
      "·  ■  ·  ·  ·  ·  ■  \n",
      "·  ·  ·  ·  ·  ■  ·  \n",
      "·  ·  ·  ■  ·  ■  ·  \n",
      "Existen 12 islas en el mapa generado.\n",
      "Existen 12 islas en el mapa generado.\n"
     ]
    }
   ],
   "source": [
    "# IMPORTS PARA EL CÓDIGO\n",
    "import random\n",
    "\n",
    "# VARIABLES ESTABLECIDAS POR EL USUARIO\n",
    "H = int(input(\"Ingrese la altura del mapa: \"))\n",
    "W = int(input(\"Ingrese la anchura del mapa: \"))\n",
    "\n",
    "# CREACIÓN DE LA MATRIZ\n",
    "matrix = []\n",
    "\n",
    "# RELLENO ALEATORIO DE LA MATRIZ\n",
    "for i in range(H):\n",
    "    row = []\n",
    "    for j in range(W):\n",
    "        val = 1 if random.random() < 0.2 else 0  # Usar 0.2 para controlar la densidad de islas\n",
    "        row.append(val)\n",
    "    matrix.append(row)\n",
    "\n",
    "# IMPRESIÓN EN PANTALLA DE LA MATRIZ\n",
    "print(\"Este es el mapa:\")\n",
    "for row in matrix:\n",
    "    for cell in row:\n",
    "        print(\"■\" if cell == 1 else \"·\", end=\"  \")\n",
    "    print()\n",
    "\n",
    "# MÉTODO ITERATIVO PARA BUSCAR ISLAS\n",
    "islands = 0\n",
    "for i in range(H):\n",
    "    for j in range(W):\n",
    "        if matrix[i][j] == 1:\n",
    "            islands += 1\n",
    "            matrix[i][j] = 2\n",
    "\n",
    "print(\"Existen\", islands, \"islas en el mapa generado.\")\n",
    "\n",
    "# MÉTODO RECURSIVO PARA BUSCAR ISLAS\n",
    "def MetRecursivo(i, j):\n",
    "    if i < 0 or i >= H or j < 0 or j >= W:\n",
    "        return\n",
    "    if matrix[i][j] != 1:\n",
    "        return\n",
    "    matrix[i][j] = 2\n",
    "    MetRecursivo(i - 1, j)\n",
    "    MetRecursivo(i + 1, j)\n",
    "    MetRecursivo(i, j - 1)\n",
    "    MetRecursivo(i, j + 1)\n",
    "\n",
    "for i in range(H):\n",
    "    for j in range(W):\n",
    "        if matrix[i][j] == 1:\n",
    "            islands += 1\n",
    "            MetRecursivo(i, j)\n",
    "\n",
    "print(\"Existen\", islands, \"islas en el mapa generado.\")"
   ]
  },
  {
   "cell_type": "code",
   "execution_count": null,
   "id": "fe1b9811",
   "metadata": {},
   "outputs": [],
   "source": []
  },
  {
   "cell_type": "code",
   "execution_count": null,
   "id": "51abf65c",
   "metadata": {},
   "outputs": [],
   "source": []
  }
 ],
 "metadata": {
  "kernelspec": {
   "display_name": "Python 3 (ipykernel)",
   "language": "python",
   "name": "python3"
  },
  "language_info": {
   "codemirror_mode": {
    "name": "ipython",
    "version": 3
   },
   "file_extension": ".py",
   "mimetype": "text/x-python",
   "name": "python",
   "nbconvert_exporter": "python",
   "pygments_lexer": "ipython3",
   "version": "3.11.4"
  }
 },
 "nbformat": 4,
 "nbformat_minor": 5
}
